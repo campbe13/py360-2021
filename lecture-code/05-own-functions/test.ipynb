{
  "nbformat": 4,
  "nbformat_minor": 0,
  "metadata": {
    "colab": {
      "name": "py-05-functions.ipynb",
      "provenance": [],
      "toc_visible": true
    },
    "kernelspec": {
      "display_name": "Python 3",
      "language": "python",
      "name": "python3"
    }
  },
  "cells": [
    {
      "cell_type": "markdown",
      "metadata": {
        "id": "aS0NdBag7ct4"
      },
      "source": [
        "# functions\n",
        "We have seen built in functions print() and ??? can you name a few them ?\n",
        "\n",
        "We can create our own functions to do things that we want.\n",
        "\n",
        "The reason we create functions is to modularize our code, we just call the function, instead of copy pasting the same thing over and over.\n",
        "The reason we create functions is it's easier to read a function name than the 10+ lines of code to decide what something is doing.\n",
        "\n",
        "## syntax\n",
        "function_name()\n",
        "```\n",
        "def function_name():\n",
        "    statment\n",
        "```\n",
        "function_name2(arg1, arg2, arg3)\n",
        "```\n",
        "def function_name2(param1, param2, param3):\n",
        "    statment\n",
        "```"
      ]
    },
    {
      "cell_type": "markdown",
      "metadata": {
        "id": "dhrwv0uA7ct6"
      },
      "source": [
        "# Refs\n",
        "* https://www.learnpython.org/en/Functions\n",
        "* https://docs.python.org/3/tutorial/controlflow.html#defining-functions\n",
        "* https://docs.python.org/3/tutorial/controlflow.html#more-on-defining-functions\n",
        "* https://docs.python.org/3/tutorial/controlflow.html#intermezzo-coding-style\n",
        "built in\n",
        "* https://docs.python.org/3/library/functions.html"
      ]
    },
    {
      "cell_type": "markdown",
      "metadata": {
        "id": "ZLy_7oMgxcLv"
      },
      "source": [
        "## no paremeters, no return"
      ]
    },
    {
      "cell_type": "code",
      "metadata": {
        "id": "aZ4-mBwp7ct7"
      },
      "source": [
        "def say_hello() :\n",
        "    print (\"hello, bonjour, hola \")\n",
        "    \n",
        "say_hello()\n",
        "say_hello()"
      ],
      "execution_count": null,
      "outputs": []
    },
    {
      "cell_type": "markdown",
      "source": [
        ""
      ],
      "metadata": {
        "id": "Y7jXSRCod-RU"
      }
    },
    {
      "cell_type": "code",
      "metadata": {
        "id": "tVtEHpWIxcMK",
        "colab": {
          "base_uri": "https://localhost:8080/"
        },
        "outputId": "306031aa-0f86-43d8-8dd0-ba10f3a73098"
      },
      "source": [
        "# PM Campbell\n",
        "# Winter 2019\n",
        "# code examples from lecture 8\n",
        "# \n",
        "# functions\n",
        "# simple, no params, no return\n",
        "def hello ():\n",
        "  print(\"hello\".title())\n",
        "  print(\"hello\".upper())\n",
        "  print(\"hello\".lower())\n",
        "\n",
        "hello()\n",
        "print (\"run function again\")\n",
        "hello()"
      ],
      "execution_count": 1,
      "outputs": [
        {
          "output_type": "stream",
          "name": "stdout",
          "text": [
            "Hello\n",
            "HELLO\n",
            "hello\n",
            "run function again\n",
            "Hello\n",
            "HELLO\n",
            "hello\n"
          ]
        }
      ]
    },
    {
      "cell_type": "markdown",
      "metadata": {
        "id": "pnyyjcWdxcMT"
      },
      "source": [
        "## one paremeter, no return"
      ]
    },
    {
      "cell_type": "code",
      "metadata": {
        "id": "Mcli1DLy7ct_"
      },
      "source": [
        "def say_hello_multiling(name) :\n",
        "    print (\"hello, bonjour, hola\", name)\n",
        "                \n",
        "say_hello_multiling(\"tricia\")\n",
        "name=input(\"What is your name? \")\n",
        "say_hello_multiling(name)"
      ],
      "execution_count": null,
      "outputs": []
    },
    {
      "cell_type": "code",
      "metadata": {
        "id": "Jl8_0f9IxcMe"
      },
      "source": [
        "# PM Campbell\n",
        "# Winter 2019\n",
        "# code examples from lecture 8\n",
        "# \n",
        "# functions\n",
        "# simple, 1 parameter, no return\n",
        "def hello_name(name):\n",
        "  display=\"hello \"+name\n",
        "  print(display.title())\n",
        "  print(display.upper())\n",
        "  print(display.lower())\n",
        "\n",
        "hello_name(\"Dr. Who\")  \n",
        "print (\"run function again\")\n",
        "hello_name(\"Tricia\")"
      ],
      "execution_count": null,
      "outputs": []
    },
    {
      "cell_type": "code",
      "metadata": {
        "id": "ib9T7p1xxcMn"
      },
      "source": [
        "# PM Campbell\n",
        "# Winter 2019\n",
        "# code examples from lecture 8\n",
        "#\n",
        "# part3.py\n",
        "#\n",
        "# functions\n",
        "# simple, 1 parameter, no return\n",
        "def hello_times(name, mult):\n",
        "  display=\"hello \"+ (name+\" \")*mult\n",
        "  print(display.title())\n",
        "  print(display.upper())\n",
        "  print(display.lower())\n",
        "\n",
        "repeat = int(input(\"number of repeats: \"))\n",
        "hello_times(\"dr. who\", repeat)  \n",
        "print (\"run function again\")\n",
        "name = input(\"what is your name \")\n",
        "hello_times(name, 3)"
      ],
      "execution_count": null,
      "outputs": []
    },
    {
      "cell_type": "markdown",
      "metadata": {
        "id": "C6XirdSgxcM1"
      },
      "source": [
        "## parameters,  no return"
      ]
    },
    {
      "cell_type": "code",
      "metadata": {
        "id": "fL1Oy0gy7qOW",
        "outputId": "bcda5bde-6756-423e-c0ce-7eddaf294cb9",
        "colab": {
          "base_uri": "https://localhost:8080/",
          "height": 119
        }
      },
      "source": [
        "def say_hello_lang(name, language) :\n",
        "  if (language.lower() == \"english\") :\n",
        "    print (\"Hello\", name.title(), \" how are you?\")\n",
        "  elif (language.lower() == \"french\") :\n",
        "    print (\"Bonjour\", name.title(), \"comment allez vous?\")\n",
        "  elif (language.lower() == \"spanish\" ) :\n",
        "    print (\"Hola\", name.title(), \"cómo estás?\")\n",
        "  else :\n",
        "    print (\"Hello \", name.title(), \"language not recognized\")\n",
        "                \n",
        "say_hello_lang(\"tricia\", \"korean\")\n",
        "name=input(\"What is your name? \")\n",
        "say_hello_lang(name,\"French\")\n",
        "say_hello_lang(name,\"English\")\n",
        "say_hello_lang(name,\"Spanish\")\n",
        "say_hello_lang(name,\"German\")"
      ],
      "execution_count": null,
      "outputs": [
        {
          "output_type": "stream",
          "text": [
            "Hello  Tricia language not recognized\n",
            "What is your name? peter\n",
            "Bonjour Peter comment allez vous?\n",
            "hello Peter  how are you?\n",
            "Hola Peter cómo estás?\n",
            "Hello  Peter language not recognized\n"
          ],
          "name": "stdout"
        }
      ]
    },
    {
      "cell_type": "code",
      "metadata": {
        "id": "TSbpoqwl7cuC",
        "outputId": "36efe1e6-79f4-4e60-803d-9179b24222bc"
      },
      "source": [
        "def say_hello3(name, language, system) :\n",
        "    print (\"hello, bonjour, hola\".title(), name.title())\n",
        "    print (\"you write\",language, \"code\")\n",
        "    print (\"on\", system, \"operating system\")\n",
        "    print ()\n",
        "    \n",
        "say_hello3(\"tricia\", \"python\", \"linux\")\n",
        "name, coding_lang = input(\"What is your name & favourite programming language ? \").split()\n",
        "say_hello3(name, coding_lang, \"linux\")"
      ],
      "execution_count": null,
      "outputs": [
        {
          "output_type": "stream",
          "text": [
            "Hello, Bonjour, Hola Tricia\n",
            "you write python code\n",
            "on linux operating system\n",
            "\n",
            "What is your name & favourite programming language ? tricia python\n",
            "Hello, Bonjour, Hola Tricia\n",
            "you write python code\n",
            "on linux operating system\n",
            "\n"
          ],
          "name": "stdout"
        }
      ]
    },
    {
      "cell_type": "code",
      "metadata": {
        "id": "eB1f_E3Q7cuF"
      },
      "source": [
        "# default values, means we can ommit\n",
        "def say_hello4(name=\"Dorothy V\", language=\"python\", system=\"linux\") :\n",
        "    print (\"hello, bonjour, hola\".title(), name.title())\n",
        "    print (\"you write\",language, \"code\")\n",
        "    print (\"on\", system, \"operating system\")\n",
        "    print ()\n",
        "\n",
        "say_hello4()\n",
        "say_hello4(\"tricia\")\n",
        "say_hello4(\"mary j\", \"C\")\n",
        "say_hello4(\"tricia\", \"python\", \"Mac OS X\")\n",
        "name, language = input(\"What is your name & favourite programming language ? \").split()\n",
        "say_hello4(name, language)\n",
        "say_hello4(name)"
      ],
      "execution_count": null,
      "outputs": []
    },
    {
      "cell_type": "markdown",
      "metadata": {
        "id": "QUZQVncZ7cuI"
      },
      "source": [
        "## returning values\n",
        "result=function_name3()\n",
        "```\n",
        "def function_name3():\n",
        "     statement\n",
        "     return value\n",
        "```"
      ]
    },
    {
      "cell_type": "code",
      "metadata": {
        "id": "Cw7B3rs17cuJ"
      },
      "source": [
        "# add, no error checking\n",
        "def sum (num1, num2) :\n",
        "    return num1 + num2\n",
        "\n",
        "# multiply, check for numbers\n",
        "def mult (num1, num2) :\n",
        "    if (num1.isdigit()) :\n",
        "        num1 = int(num1)\n",
        "    else :\n",
        "        return \"Error\"\n",
        "    if (num2.isdigit()) :\n",
        "        num2 = int(num2)\n",
        "    else :\n",
        "        return \"Error\"\n",
        "    return num1 * num2\n",
        "        \n",
        "in1 = input(\"Enter an int \")\n",
        "in2 = input(\"Enter another int \")\n",
        "\n",
        "print (in1, in2, \"sum\", sum(in1,in2))\n",
        "print (in1, in2, \"mult\", mult(in1,in2))\n"
      ],
      "execution_count": null,
      "outputs": []
    },
    {
      "cell_type": "code",
      "metadata": {
        "id": "yFDBRacXxcNt",
        "outputId": "5348c85d-cf7a-422f-8920-08950dcaaf05"
      },
      "source": [
        "# Winter 2019\n",
        "# code examples from lecture 8\n",
        "# \n",
        "# functions\n",
        "# simple, 1 parameter, with return\n",
        "def hello_name(name):\n",
        "  display=\"hello \"+name\n",
        "  return display\n",
        "\n",
        "print (hello_name(\"Dr. Who\").upper())\n",
        "new_string = hello_name(\"Tricia\")\n",
        "print (new_string.upper())\n"
      ],
      "execution_count": null,
      "outputs": [
        {
          "output_type": "stream",
          "text": [
            "HELLO DR. WHO\n",
            "HELLO TRICIA\n"
          ],
          "name": "stdout"
        },
        {
          "output_type": "error",
          "ename": "TypeError",
          "evalue": "hello_name() missing 1 required positional argument: 'name'",
          "traceback": [
            "\u001b[1;31m---------------------------------------------------------------------------\u001b[0m",
            "\u001b[1;31mTypeError\u001b[0m                                 Traceback (most recent call last)",
            "\u001b[1;32m<ipython-input-2-ce58a0a4961e>\u001b[0m in \u001b[0;36m<module>\u001b[1;34m\u001b[0m\n\u001b[0;32m     12\u001b[0m \u001b[0mprint\u001b[0m \u001b[1;33m(\u001b[0m\u001b[0mnew_string\u001b[0m\u001b[1;33m.\u001b[0m\u001b[0mupper\u001b[0m\u001b[1;33m(\u001b[0m\u001b[1;33m)\u001b[0m\u001b[1;33m)\u001b[0m\u001b[1;33m\u001b[0m\u001b[1;33m\u001b[0m\u001b[0m\n\u001b[0;32m     13\u001b[0m \u001b[1;31m# use the default\u001b[0m\u001b[1;33m\u001b[0m\u001b[1;33m\u001b[0m\u001b[1;33m\u001b[0m\u001b[0m\n\u001b[1;32m---> 14\u001b[1;33m \u001b[0mprint\u001b[0m \u001b[1;33m(\u001b[0m\u001b[0mhello_name\u001b[0m\u001b[1;33m(\u001b[0m\u001b[1;33m)\u001b[0m\u001b[1;33m)\u001b[0m\u001b[1;33m\u001b[0m\u001b[1;33m\u001b[0m\u001b[0m\n\u001b[0m",
            "\u001b[1;31mTypeError\u001b[0m: hello_name() missing 1 required positional argument: 'name'"
          ]
        }
      ]
    },
    {
      "cell_type": "code",
      "metadata": {
        "id": "trooJll1xcN5",
        "outputId": "907b9ee1-b76f-4c27-dd58-f45eb2e213f5"
      },
      "source": [
        "# Winter 2019\n",
        "# code examples from lecture 8\n",
        "# \n",
        "# functions\n",
        "# simple, 1 parameter, with return\n",
        "def hello_name(name = \"Friend\"):\n",
        "  display=\"hello \"+name\n",
        "  return display.upper()\n",
        "\n",
        "print (hello_name(\"dr. who\").title())\n",
        "new_string = hello_name(\"Tricia\")\n",
        "print (new_string.upper())\n",
        "# use the default\n",
        "print (hello_name())"
      ],
      "execution_count": null,
      "outputs": [
        {
          "output_type": "stream",
          "text": [
            "Hello Dr. Who\n",
            "HELLO TRICIA\n",
            "HELLO FRIEND\n"
          ],
          "name": "stdout"
        }
      ]
    },
    {
      "cell_type": "markdown",
      "metadata": {
        "id": "LJVGgRTp7cuM"
      },
      "source": [
        "## pass keyword\n",
        "place holder for code "
      ]
    },
    {
      "cell_type": "code",
      "metadata": {
        "id": "P6m7bI_e7cuO",
        "outputId": "456f969a-23a9-41bf-bb5a-b78886897b40"
      },
      "source": [
        "def temperature_opinion(temp = 21.5) :\n",
        "    opinion = \"meh\"\n",
        "    if (temp > 30 ) :\n",
        "        opinion = \"VERY hot\"\n",
        "    elif (temp > 20 ) :\n",
        "        pass\n",
        "    elif (temp > 10 ) :\n",
        "        pass\n",
        "    elif (temp > 0 )  :\n",
        "        pass\n",
        "    elif (temp > -10 )  :\n",
        "        pass\n",
        "    elif (temp > -20 )  :\n",
        "        pass\n",
        "    elif (temp > -30 )  :\n",
        "        pass\n",
        "    else  :\n",
        "        opinion= \"VERY cold\"\n",
        "    return (opinion)\n",
        "\n",
        "tempin = float(input (\"what is the temperature, in celcius \"))\n",
        "print (tempin, \"is\", temperature_opinion(tempin))"
      ],
      "execution_count": null,
      "outputs": [
        {
          "output_type": "stream",
          "text": [
            "what is the temperature, in celcius -35\n",
            "-35.0 is VERY cold\n"
          ],
          "name": "stdout"
        }
      ]
    },
    {
      "cell_type": "markdown",
      "metadata": {
        "id": "ebpi3A8K7cuR"
      },
      "source": [
        "## scope is important\n",
        "scope means the range that a variable can reach\n",
        "* variables created outside functions can be referenced inside functions, this is global scope\n",
        "* variables created inside functions can be referenced ONLY inside that function, this is local scope"
      ]
    },
    {
      "cell_type": "markdown",
      "metadata": {
        "id": "IrMLDkmX7cuS"
      },
      "source": [
        "## import from other files!\n",
        "in the same directory:  dog.py\n",
        "\n",
        "right now this does not work from colabs, only when using jupyter notebooks\n",
        "\n",
        "```\n",
        "# pmcampbell\n",
        "# 2019-03-09\n",
        "# these are functions for dogs\n",
        "# to be included \n",
        "def talk (size = \"big\") :\n",
        "\tif ( size.lower() == \"big\") :\n",
        "\t\tprint (\"Dogs say WOOF\")\n",
        "\telse :\n",
        "\t\tprint (\"Dogs say yap yap yap\")\n",
        "\n",
        "def run ( legs = \"long\") :\n",
        "\tif ( legs.lower() == \"long\") :\n",
        "\t\tprint (\"Dogs run fast and far \")\n",
        "\telse :\n",
        "\t\tprint (\"Dogs run fast but not too far \")\n",
        "```"
      ]
    },
    {
      "cell_type": "code",
      "metadata": {
        "id": "KKro-6J77cuV",
        "outputId": "2875a087-d70c-41ff-d5b2-a62eb0fea51a",
        "colab": {
          "base_uri": "https://localhost:8080/",
          "height": 374
        }
      },
      "source": [
        "# dog.py is in the same directory\n",
        "import dog\n",
        "dog.run()\n",
        "dog.run(\"short\")\n",
        "dog.run(\"long\") # default\n",
        "\n",
        "dog.talk()\n",
        "dog.talk(\"small\")\n",
        "dog.talk(\"big\")  # default"
      ],
      "execution_count": null,
      "outputs": [
        {
          "output_type": "error",
          "ename": "ModuleNotFoundError",
          "evalue": "ignored",
          "traceback": [
            "\u001b[0;31m---------------------------------------------------------------------------\u001b[0m",
            "\u001b[0;31mModuleNotFoundError\u001b[0m                       Traceback (most recent call last)",
            "\u001b[0;32m<ipython-input-2-4891abc51048>\u001b[0m in \u001b[0;36m<module>\u001b[0;34m()\u001b[0m\n\u001b[0;32m----> 1\u001b[0;31m \u001b[0;32mimport\u001b[0m \u001b[0mdog\u001b[0m\u001b[0;34m\u001b[0m\u001b[0;34m\u001b[0m\u001b[0m\n\u001b[0m\u001b[1;32m      2\u001b[0m \u001b[0mdog\u001b[0m\u001b[0;34m.\u001b[0m\u001b[0mrun\u001b[0m\u001b[0;34m(\u001b[0m\u001b[0;34m)\u001b[0m\u001b[0;34m\u001b[0m\u001b[0;34m\u001b[0m\u001b[0m\n\u001b[1;32m      3\u001b[0m \u001b[0mdog\u001b[0m\u001b[0;34m.\u001b[0m\u001b[0mrun\u001b[0m\u001b[0;34m(\u001b[0m\u001b[0;34m\"short\"\u001b[0m\u001b[0;34m)\u001b[0m\u001b[0;34m\u001b[0m\u001b[0;34m\u001b[0m\u001b[0m\n\u001b[1;32m      4\u001b[0m \u001b[0mdog\u001b[0m\u001b[0;34m.\u001b[0m\u001b[0mrun\u001b[0m\u001b[0;34m(\u001b[0m\u001b[0;34m\"long\"\u001b[0m\u001b[0;34m)\u001b[0m \u001b[0;31m# default\u001b[0m\u001b[0;34m\u001b[0m\u001b[0;34m\u001b[0m\u001b[0m\n\u001b[1;32m      5\u001b[0m \u001b[0;34m\u001b[0m\u001b[0m\n",
            "\u001b[0;31mModuleNotFoundError\u001b[0m: No module named 'dog'",
            "",
            "\u001b[0;31m---------------------------------------------------------------------------\u001b[0;32m\nNOTE: If your import is failing due to a missing package, you can\nmanually install dependencies using either !pip or !apt.\n\nTo view examples of installing some common dependencies, click the\n\"Open Examples\" button below.\n\u001b[0;31m---------------------------------------------------------------------------\u001b[0m\n"
          ]
        }
      ]
    },
    {
      "cell_type": "markdown",
      "metadata": {
        "id": "yFZlBRiVTek5"
      },
      "source": [
        "# disassemble to CPython (import dis)"
      ]
    },
    {
      "cell_type": "code",
      "metadata": {
        "id": "Keon8w5z7cuc",
        "outputId": "5e256f1c-1514-4293-88ce-ba78e963fed9",
        "colab": {
          "base_uri": "https://localhost:8080/",
          "height": 357
        }
      },
      "source": [
        "import dog\n",
        "import dis\n",
        "dog.run()\n",
        "dis.dis(dog.run())"
      ],
      "execution_count": null,
      "outputs": [
        {
          "output_type": "error",
          "ename": "ModuleNotFoundError",
          "evalue": "ignored",
          "traceback": [
            "\u001b[0;31m---------------------------------------------------------------------------\u001b[0m",
            "\u001b[0;31mModuleNotFoundError\u001b[0m                       Traceback (most recent call last)",
            "\u001b[0;32m<ipython-input-3-3f85d8259975>\u001b[0m in \u001b[0;36m<module>\u001b[0;34m()\u001b[0m\n\u001b[0;32m----> 1\u001b[0;31m \u001b[0;32mimport\u001b[0m \u001b[0mdog\u001b[0m\u001b[0;34m\u001b[0m\u001b[0;34m\u001b[0m\u001b[0m\n\u001b[0m\u001b[1;32m      2\u001b[0m \u001b[0;32mimport\u001b[0m \u001b[0mdis\u001b[0m\u001b[0;34m\u001b[0m\u001b[0;34m\u001b[0m\u001b[0m\n\u001b[1;32m      3\u001b[0m \u001b[0mdog\u001b[0m\u001b[0;34m.\u001b[0m\u001b[0mrun\u001b[0m\u001b[0;34m(\u001b[0m\u001b[0;34m)\u001b[0m\u001b[0;34m\u001b[0m\u001b[0;34m\u001b[0m\u001b[0m\n\u001b[1;32m      4\u001b[0m \u001b[0mdis\u001b[0m\u001b[0;34m.\u001b[0m\u001b[0mdis\u001b[0m\u001b[0;34m(\u001b[0m\u001b[0mdog\u001b[0m\u001b[0;34m.\u001b[0m\u001b[0mrun\u001b[0m\u001b[0;34m(\u001b[0m\u001b[0;34m)\u001b[0m\u001b[0;34m)\u001b[0m\u001b[0;34m\u001b[0m\u001b[0;34m\u001b[0m\u001b[0m\n",
            "\u001b[0;31mModuleNotFoundError\u001b[0m: No module named 'dog'",
            "",
            "\u001b[0;31m---------------------------------------------------------------------------\u001b[0;32m\nNOTE: If your import is failing due to a missing package, you can\nmanually install dependencies using either !pip or !apt.\n\nTo view examples of installing some common dependencies, click the\n\"Open Examples\" button below.\n\u001b[0;31m---------------------------------------------------------------------------\u001b[0m\n"
          ]
        }
      ]
    },
    {
      "cell_type": "code",
      "metadata": {
        "id": "6vAhlmcL7cud"
      },
      "source": [
        ""
      ],
      "execution_count": null,
      "outputs": []
    }
  ]
}
