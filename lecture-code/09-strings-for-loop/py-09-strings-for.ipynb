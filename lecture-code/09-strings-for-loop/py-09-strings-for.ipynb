{
  "nbformat": 4,
  "nbformat_minor": 0,
  "metadata": {
    "colab": {
      "name": "py-09-strings.ipynb",
      "provenance": [],
      "toc_visible": true
    },
    "language_info": {
      "codemirror_mode": {
        "name": "ipython",
        "version": 3
      },
      "file_extension": ".py",
      "mimetype": "text/x-python",
      "name": "python",
      "nbconvert_exporter": "python",
      "pygments_lexer": "ipython3",
      "version": "3.7.1"
    },
    "kernelspec": {
      "display_name": "Python 3",
      "language": "python",
      "name": "python3"
    }
  },
  "cells": [
    {
      "cell_type": "markdown",
      "metadata": {
        "id": "6Rprq_CfWQRg"
      },
      "source": [
        "# Lecture 9  Strings  \n",
        "\n"
      ]
    },
    {
      "cell_type": "markdown",
      "metadata": {
        "id": "FFQ6tLFb2Gkf"
      },
      "source": [
        "# For students, review your knowledge: \n",
        "https://hourofpython.trinket.io/python-challenges#/string-challenges/"
      ]
    },
    {
      "cell_type": "markdown",
      "metadata": {
        "id": "5VQEwBs3WNm6"
      },
      "source": [
        "# String Literals & Variables"
      ]
    },
    {
      "cell_type": "code",
      "metadata": {
        "id": "Mp2eJHLyWwop",
        "outputId": "6fbc10ae-aa23-4516-854d-38f7b589ad77",
        "colab": {
          "base_uri": "https://localhost:8080/",
          "height": 255
        }
      },
      "source": [
        "# regular strings\n",
        "\n",
        "# string literals\n",
        "print('string single quotes ')\n",
        "print(\"string double quotes \")\n",
        "print( \"\"\" string\n",
        "triple\n",
        "quotes\n",
        "multi-line\n",
        "\"\"\" )\n",
        "\n",
        "# variables\n",
        "str1='string single quotes in a var'\n",
        "str2=\"string double quotes in a var\"\n",
        "str3=\"\"\" string\n",
        "  triple\n",
        "  quotes\n",
        "  multi-line\n",
        "  in a var\"\"\" \n",
        "\n",
        "print (str1)\n",
        "print (str2)\n",
        "print (str3)\n"
      ],
      "execution_count": null,
      "outputs": [
        {
          "output_type": "stream",
          "text": [
            "string single quotes \n",
            "string double quotes \n",
            " string\n",
            "triple\n",
            "quotes\n",
            "multi-line\n",
            "\n",
            "string single quotes in a var\n",
            "string double quotes in a var\n",
            " string\n",
            "  triple\n",
            "  quotes\n",
            "  multi-line\n",
            "  in a var\n"
          ],
          "name": "stdout"
        }
      ]
    },
    {
      "cell_type": "markdown",
      "metadata": {
        "id": "_ShWU3WJYP91"
      },
      "source": [
        "# arithmetic ops and strings: +\n",
        "\n",
        "## concatenate    +\n",
        "\n"
      ]
    },
    {
      "cell_type": "code",
      "metadata": {
        "id": "ga-cNq8aXz_j"
      },
      "source": [
        "first_name = “Cardi“\n",
        "last_name = “B”\n",
        "name = first_name + “ “ +last_name\n",
        "print (“Introducing rapper” + name)"
      ],
      "execution_count": null,
      "outputs": []
    },
    {
      "cell_type": "markdown",
      "metadata": {
        "id": "2Xl3-mFCZpg9"
      },
      "source": [
        "You can only contactenate strings\n",
        "You cannot concatenate numbers and strings\n",
        "```\n",
        "TypeError: must be str, not int\n",
        "```\n",
        "\n"
      ]
    },
    {
      "cell_type": "markdown",
      "metadata": {
        "id": "VjAzbOaoZpbt"
      },
      "source": [
        ""
      ]
    },
    {
      "cell_type": "code",
      "metadata": {
        "id": "2VLA3IpfZjfV",
        "outputId": "1e43678b-1dab-47d3-d73d-9848d9880ab2",
        "colab": {
          "base_uri": "https://localhost:8080/",
          "height": 163
        }
      },
      "source": [
        "# can't concatenate numbers and strings \n",
        "print (\"Cardi \"+25)"
      ],
      "execution_count": null,
      "outputs": [
        {
          "output_type": "error",
          "ename": "TypeError",
          "evalue": "ignored",
          "traceback": [
            "\u001b[0;31m---------------------------------------------------------------------------\u001b[0m",
            "\u001b[0;31mTypeError\u001b[0m                                 Traceback (most recent call last)",
            "\u001b[0;32m<ipython-input-13-2f427ffbe9ef>\u001b[0m in \u001b[0;36m<module>\u001b[0;34m()\u001b[0m\n\u001b[0;32m----> 1\u001b[0;31m \u001b[0mprint\u001b[0m \u001b[0;34m(\u001b[0m\u001b[0;34m\"Cardi \"\u001b[0m\u001b[0;34m+\u001b[0m\u001b[0;36m25\u001b[0m\u001b[0;34m)\u001b[0m\u001b[0;34m\u001b[0m\u001b[0;34m\u001b[0m\u001b[0m\n\u001b[0m",
            "\u001b[0;31mTypeError\u001b[0m: must be str, not int"
          ]
        }
      ]
    },
    {
      "cell_type": "code",
      "metadata": {
        "id": "TZpgVjmvXG6u",
        "outputId": "14c4e823-c222-4214-ab39-0330c8e97797",
        "colab": {
          "base_uri": "https://localhost:8080/",
          "height": 34
        }
      },
      "source": [
        "# can't concatenate numbers and strings\n",
        "# so convert the number to a string\n",
        "print (\"Cardi \"+str(25))"
      ],
      "execution_count": null,
      "outputs": [
        {
          "output_type": "stream",
          "text": [
            "Cardi 25\n"
          ],
          "name": "stdout"
        }
      ]
    },
    {
      "cell_type": "code",
      "metadata": {
        "id": "hfgrAzZpYklV",
        "outputId": "6527bd77-d11d-43cb-fd2d-a2754ab62a76",
        "colab": {
          "base_uri": "https://localhost:8080/",
          "height": 102
        }
      },
      "source": [
        "first_name = \"Cardi\"\n",
        "\n",
        "lots_of_names = \"Cardi \"*3    # Cardi Cardi Cardi\n",
        "print (lots_of_names)\n",
        "print()\n",
        "\n",
        "times=int(input(\"how many times: \"))\n",
        "print (\"repeating \", times, \" times\")\n",
        "print (first_name*times)"
      ],
      "execution_count": null,
      "outputs": [
        {
          "output_type": "stream",
          "text": [
            "Cardi Cardi Cardi \n",
            "\n",
            "how many times: 10\n",
            "repeating  10  times\n",
            "CardiCardiCardiCardiCardiCardiCardiCardiCardiCardi\n"
          ],
          "name": "stdout"
        }
      ]
    },
    {
      "cell_type": "markdown",
      "metadata": {
        "id": "U3EaWwPIYiO9"
      },
      "source": [
        "# arithmetic ops and strings: *\n",
        "## multiply *"
      ]
    },
    {
      "cell_type": "markdown",
      "metadata": {
        "id": "Q2aDAFyG5Hyq"
      },
      "source": [
        "# len() built in function\n",
        "\n",
        "len() is not a string function but it takes as an argument a string and returns the number of characters in the string \n"
      ]
    },
    {
      "cell_type": "code",
      "metadata": {
        "id": "_ywR_K1a5OV5",
        "outputId": "534096f7-e4ac-4204-b1e2-898c79826c13",
        "colab": {
          "base_uri": "https://localhost:8080/",
          "height": 35
        }
      },
      "source": [
        "name = \"Fozzie The Bear\"\n",
        "\n",
        "print(name, \" has \", len(name), \" letters\")   "
      ],
      "execution_count": null,
      "outputs": [
        {
          "output_type": "stream",
          "text": [
            "Fozzie The Bear  has  15  letters\n"
          ],
          "name": "stdout"
        }
      ]
    },
    {
      "cell_type": "markdown",
      "metadata": {
        "id": "WFrR7qtHYJkb"
      },
      "source": [
        "# Strings as a series of characters (arrays)\n",
        "\n"
      ]
    },
    {
      "cell_type": "code",
      "metadata": {
        "id": "pjOSP4pKYPOo",
        "outputId": "e0fa2678-fb4c-40a9-cf92-df397abe8e5c",
        "colab": {
          "base_uri": "https://localhost:8080/",
          "height": 187
        }
      },
      "source": [
        "name=\"Dorothy Vaughn\"\n",
        "\n",
        "print (name, \"length\", len(name))\n",
        "\n",
        "# one character at a time (we begin at 0, not 1)\n",
        "print (name[0])\n",
        "print (name[1])\n",
        "print (name[2])\n",
        "print (name[3])\n",
        "print (name[4])\n",
        "print (name[5])\n",
        "print (name[6])\n",
        "\n",
        "# a slice   [start:end]\n",
        "print (name[4:7])    \n",
        "print (name[8:])   "
      ],
      "execution_count": null,
      "outputs": [
        {
          "output_type": "stream",
          "text": [
            "Dorothy Vaughn length 14\n",
            "D\n",
            "o\n",
            "r\n",
            "o\n",
            "t\n",
            "h\n",
            "y\n",
            "thy\n",
            "Vaughn\n"
          ],
          "name": "stdout"
        }
      ]
    },
    {
      "cell_type": "markdown",
      "metadata": {
        "id": "lrpVkQNSRspS"
      },
      "source": [
        "## Strings are arrays, a series of characters\n",
        "![alt text](https://developers.google.com/edu/python/images/hello.png)\n",
        "\n",
        "```\n",
        " H e l l o\n",
        " 0 1 2 3 4\n",
        "```\n",
        "\n",
        "```\n",
        " H  e  l  l  o\n",
        "-5 -4 -3 -2 -1\n",
        "```"
      ]
    },
    {
      "cell_type": "code",
      "metadata": {
        "id": "-E2ZixdlSOcF",
        "outputId": "295c2a19-ee72-459d-9cbd-0e33767de8fb",
        "colab": {
          "base_uri": "https://localhost:8080/",
          "height": 200
        }
      },
      "source": [
        "string=\"Hello\"\n",
        "\n",
        "print (string[-1])\n",
        "print (string[-2])\n",
        "print (string[-3])\n",
        "print (string[-4])\n",
        "print (string[-5])\n",
        "print()\n",
        "print (string[0])\n",
        "print (string[1])\n",
        "print (string[2])\n",
        "print (string[3])\n",
        "print (string[4])"
      ],
      "execution_count": null,
      "outputs": [
        {
          "output_type": "stream",
          "text": [
            "o\n",
            "l\n",
            "l\n",
            "e\n",
            "H\n",
            "\n",
            "H\n",
            "e\n",
            "l\n",
            "l\n",
            "o\n"
          ],
          "name": "stdout"
        }
      ]
    },
    {
      "cell_type": "markdown",
      "metadata": {
        "id": "z1IcTt1DgARA"
      },
      "source": [
        "## String slices\n"
      ]
    },
    {
      "cell_type": "code",
      "metadata": {
        "id": "e6WK0IO-gJUv",
        "outputId": "dfe25f8d-77c8-4efc-b533-f146385f7211",
        "colab": {
          "base_uri": "https://localhost:8080/",
          "height": 68
        }
      },
      "source": [
        "name=\"Greta Thunberg\"\n",
        "# starts at 0\n",
        "# a slice   [start:end]\n",
        "print (name[4:8])     # chars 4-7\n",
        "print (name[8:])      # start at 8th char to end\n",
        "print (name[:5])      # first 5 chars"
      ],
      "execution_count": null,
      "outputs": [
        {
          "output_type": "stream",
          "text": [
            "a Th\n",
            "unberg\n",
            "Greta\n"
          ],
          "name": "stdout"
        }
      ]
    },
    {
      "cell_type": "markdown",
      "metadata": {
        "id": "SptvhAa8c1k4"
      },
      "source": [
        "## using a for loop"
      ]
    },
    {
      "cell_type": "code",
      "metadata": {
        "id": "PfULXQAFb25U",
        "outputId": "947fa04e-a062-459b-ab17-8feaa02ccded",
        "colab": {
          "base_uri": "https://localhost:8080/",
          "height": 374
        }
      },
      "source": [
        "name=\"Mary Jackson Engineer\"\n",
        "\n",
        "for letter in name:\n",
        "   print (letter)"
      ],
      "execution_count": null,
      "outputs": [
        {
          "output_type": "stream",
          "text": [
            "M\n",
            "a\n",
            "r\n",
            "y\n",
            " \n",
            "J\n",
            "a\n",
            "c\n",
            "k\n",
            "s\n",
            "o\n",
            "n\n",
            " \n",
            "E\n",
            "n\n",
            "g\n",
            "i\n",
            "n\n",
            "e\n",
            "e\n",
            "r\n"
          ],
          "name": "stdout"
        }
      ]
    },
    {
      "cell_type": "markdown",
      "metadata": {
        "id": "3MwbVt0yHb5Y"
      },
      "source": [
        "## reversing a string"
      ]
    },
    {
      "cell_type": "code",
      "metadata": {
        "id": "7cqPzwUvHhWV",
        "outputId": "117a2f76-f7d6-43a5-f04b-d55f4f906bcb",
        "colab": {
          "base_uri": "https://localhost:8080/",
          "height": 340
        }
      },
      "source": [
        "# this uses all letters of the alphabet\n",
        "phrase=\"the big black dog jumped over the lazy fox\"\n",
        "print(\"forward        \", phrase)\n",
        "print(\"reverse        \", phrase[::-1])\n",
        "print(\"reverse + caps \", phrase[::-1].title())\n",
        "\n",
        "\n",
        "poem=\"\"\"\n",
        "Alligator pie, alligator pie,\n",
        "If I don't get some I think I'm gonna die. \n",
        "Give away the green grass, give away the sky, \n",
        "But don't give away my alligator pie.\n",
        "\n",
        "Alligator stew, alligator stew,\n",
        "If I don't get some I don't know what I'll do.\n",
        "Give away my furry hat, give away my shoe,\n",
        "But don't give away my alligator stew.\n",
        "\n",
        "Alligator soup, alligator soup,\n",
        "If I don't get some I think I'm gonna droop.\n",
        "Give away my hockey stick, give away my hoop,\n",
        "But don't give away my alligator soup.\n",
        "\"\"\"\n",
        "\n",
        "print (poem[::-1])"
      ],
      "execution_count": null,
      "outputs": [
        {
          "output_type": "stream",
          "text": [
            "forward         the big black dog jumped over the lazy fox\n",
            "reverse         xof yzal eht revo depmuj god kcalb gib eht\n",
            "reverse + caps  Xof Yzal Eht Revo Depmuj God Kcalb Gib Eht\n",
            "\n",
            ".puos rotagilla ym yawa evig t'nod tuB\n",
            ",pooh ym yawa evig ,kcits yekcoh ym yawa eviG\n",
            ".poord annog m'I kniht I emos teg t'nod I fI\n",
            ",puos rotagilla ,puos rotagillA\n",
            "\n",
            ".wets rotagilla ym yawa evig t'nod tuB\n",
            ",eohs ym yawa evig ,tah yrruf ym yawa eviG\n",
            ".od ll'I tahw wonk t'nod I emos teg t'nod I fI\n",
            ",wets rotagilla ,wets rotagillA\n",
            "\n",
            ".eip rotagilla ym yawa evig t'nod tuB\n",
            " ,yks eht yawa evig ,ssarg neerg eht yawa eviG\n",
            " .eid annog m'I kniht I emos teg t'nod I fI\n",
            ",eip rotagilla ,eip rotagillA\n",
            "\n"
          ],
          "name": "stdout"
        }
      ]
    },
    {
      "cell_type": "markdown",
      "metadata": {
        "id": "aUuwKQlE16J-"
      },
      "source": [
        "# formatting strings and numbers  (`f' strings '`)"
      ]
    },
    {
      "cell_type": "code",
      "metadata": {
        "id": "4OnEASOtzazp",
        "scrolled": true,
        "outputId": "4531d4a0-522f-41c3-ab5c-48ae02db6d40",
        "colab": {
          "base_uri": "https://localhost:8080/"
        }
      },
      "source": [
        "num = 12345.6789\n",
        "print (f' number {num:12.2f}')   # leading blank\n",
        "print (f' number {num:012.2f}')  # leading 0\n",
        "numd = int(num)\n",
        "print (f' number {numd:7d}')  # leading blank\n",
        "print (f' number {numd:07d}')  # leading 0\n",
        "strng = 'hello'\n",
        "print (f' string {strng:20s} goodbye')  # trailing blank"
      ],
      "execution_count": null,
      "outputs": [
        {
          "output_type": "stream",
          "name": "stdout",
          "text": [
            " number     12345.68\n",
            " number 000012345.68\n",
            " number   12345\n",
            " number 0012345\n",
            " string hello                goodbye\n"
          ]
        }
      ]
    },
    {
      "cell_type": "markdown",
      "metadata": {
        "id": "a1020o6EajTP"
      },
      "source": [
        "# string functions\n",
        "Paying homage to women in Engineering and Computer Science \n",
        "* [Katherine Johnson, NASA Computer (Scientist)](https://en.wikipedia.org/wiki/Katherine_Johnson)\n",
        "* [Dorothy Vaughn](https://en.wikipedia.org/wiki/Dorothy_Vaughan)\n",
        "* [Mary Jackson](https://en.wikipedia.org/wiki/Mary_Jackson_(engineer))\n",
        "* [Beatrice Worsley first woman computer scientist in Canada](https://en.wikipedia.org/wiki/Beatrice_Worsley)  "
      ]
    },
    {
      "cell_type": "markdown",
      "metadata": {
        "id": "Im-gzZlnWuzH"
      },
      "source": [
        "## upper, lower\n"
      ]
    },
    {
      "cell_type": "code",
      "metadata": {
        "id": "EpKoBn3zamdX",
        "outputId": "bff1ee1b-4a2d-4f30-81fc-341c79b8a18d",
        "colab": {
          "base_uri": "https://localhost:8080/",
          "height": 84
        }
      },
      "source": [
        "# NASA scientist\n",
        "name=\"katherine johnson\"\n",
        "\n",
        "print(\"no changes\", name)\n",
        "print(\"upper \", name.upper())\n",
        "\n",
        "\n",
        "shout=\"I AM SHOUTING\"\n",
        "print (\"no changes\", shout)\n",
        "print (\"lower\", shout.lower(), \",not\")"
      ],
      "execution_count": null,
      "outputs": [
        {
          "output_type": "stream",
          "text": [
            "no changes katherine johnson\n",
            "upper  KATHERINE JOHNSON\n",
            "no changes I AM SHOUTING\n",
            "lower i am shouting ,not\n"
          ],
          "name": "stdout"
        }
      ]
    },
    {
      "cell_type": "markdown",
      "metadata": {
        "id": "dcFtReSACeGz"
      },
      "source": [
        "I have to account for user input, it could be mixed case.\n",
        "To check for all possiblities I need a lot of ors."
      ]
    },
    {
      "cell_type": "code",
      "metadata": {
        "id": "tofhP0TNBBm_"
      },
      "source": [
        "# check for pet type\n",
        "# check for all possible values upper & lower\n",
        "# NOT GOOD, see the next code block\n",
        "pet = input(\"do you prefer dogs or cats\")\n",
        "\n",
        "# I am missing some :(   2*2*2*2  16 combinations needed\n",
        "if (pet == \"dogs\" or pet == \"Dogs\" or pet == \"dOgs\" or pet == \"doGs\" or pet == \"dogS\"\n",
        "    or pet == \"DOgs\" or pet == \"DoGs\" or pet == \"DogS\" \n",
        "   or pet == \"dOGs\" or pet == \"doGS\" ):\n",
        "  print (\"woof \", pet)\n",
        "  \n",
        "# I need to do the same for cats\n",
        "if (pet == \"cats\"):\n",
        "  print (\"miao \", pet)\n",
        "else :\n",
        "  print (\"not a dog not a cat\")"
      ],
      "execution_count": null,
      "outputs": []
    },
    {
      "cell_type": "markdown",
      "metadata": {
        "id": "Mq9KJqODD0Hk"
      },
      "source": [
        "This is a better way to account for user input, make it into lower case and compare only once."
      ]
    },
    {
      "cell_type": "code",
      "metadata": {
        "id": "vattk5K3_qJF",
        "outputId": "fad73ff1-0244-4692-be61-e2b3c0485f4a",
        "colab": {
          "base_uri": "https://localhost:8080/",
          "height": 50
        }
      },
      "source": [
        "# check for pet type\n",
        "# lower case solution\n",
        "pet = input(\"do you prefer dogs or cats \")\n",
        "\n",
        "pet=pet.lower()\n",
        "\n",
        "if (pet == \"dogs\"):\n",
        "  print (\"woof \", pet)\n",
        "elif (pet == \"cats\"):\n",
        "  print (\"miao \", pet)\n",
        "else :\n",
        "  print (\"not a dog not a cat\")"
      ],
      "execution_count": null,
      "outputs": [
        {
          "output_type": "stream",
          "text": [
            "do you prefer dogs or catsDOGs\n",
            "woof  dogs\n"
          ],
          "name": "stdout"
        }
      ]
    },
    {
      "cell_type": "markdown",
      "metadata": {
        "id": "YXHXJ3qvCczM"
      },
      "source": [
        "##  swapcase, title, capitalize"
      ]
    },
    {
      "cell_type": "code",
      "metadata": {
        "id": "d0vZ67DNCd0R",
        "outputId": "d1d99449-3228-4e85-96a2-e1a393ed4249",
        "colab": {
          "base_uri": "https://localhost:8080/",
          "height": 141
        }
      },
      "source": [
        "word=\"mIxED cAsE pHrAse\"\n",
        "print(\"no changes\", word)\n",
        "print(\"swap\", word.swapcase())\n",
        "print(\"caps\", word.capitalize())\n",
        "print(\"title\", word.title())\n",
        "print() \n",
        "\n",
        "print(\"title then swap\", word.title().swapcase())\n",
        "print()"
      ],
      "execution_count": null,
      "outputs": [
        {
          "output_type": "stream",
          "text": [
            "no changes mIxED cAsE pHrAse\n",
            "swap MiXed CaSe PhRaSE\n",
            "caps Mixed case phrase\n",
            "title Mixed Case Phrase\n",
            "\n",
            "title then swap mIXED cASE pHRASE\n",
            "\n"
          ],
          "name": "stdout"
        }
      ]
    },
    {
      "cell_type": "markdown",
      "metadata": {
        "id": "y3w7ZVUnySeG"
      },
      "source": [
        "## center"
      ]
    },
    {
      "cell_type": "code",
      "metadata": {
        "id": "z8Pt9huryRZ-",
        "outputId": "5e17903e-6c1c-4b18-b102-48037b5bf60b",
        "colab": {
          "base_uri": "https://localhost:8080/",
          "height": 124
        }
      },
      "source": [
        "# NASA scientist\n",
        "name=\"katherine johnson\"\n",
        "print(\"center\", name.title().center(30,\"N\"))\n",
        "\n",
        "name2=input(\"enter a name \")\n",
        "fill=input(\"enter the char you want to use as fill \")\n",
        "fill=fill[0]\n",
        "width=int(input(\"enter the width of the banner: \"))\n",
        "print(\"center\", name2.title().center(width,fill))"
      ],
      "execution_count": null,
      "outputs": [
        {
          "output_type": "stream",
          "text": [
            "center NNNNNNKatherine JohnsonNNNNNNN\n",
            "enter a name Kermit The Frog\n",
            "enter the char you want to use as fill %\n",
            "enter the width of the banner: 100\n",
            "center %%%%%%%%%%%%%%%%%%%%%%%%%%%%%%%%%%%%%%%%%%Kermit The Frog%%%%%%%%%%%%%%%%%%%%%%%%%%%%%%%%%%%%%%%%%%%\n"
          ],
          "name": "stdout"
        }
      ]
    },
    {
      "cell_type": "markdown",
      "metadata": {
        "id": "kUHORGqWZSV_"
      },
      "source": [
        "## is functions:  islower, isupper, isnumeric, isalpha, isdigit\n",
        "\n",
        "* islower   true if all lower case\n",
        "* isupper  true if all uppper case\n",
        "* isnumeric  string contains only characters that are numbers, no spaces and no letters\n",
        "* isalpha string contains only characters that are letters, no spaces\n",
        "\n"
      ]
    },
    {
      "cell_type": "code",
      "metadata": {
        "id": "82p7qdnJZQ7t",
        "outputId": "d80767ec-e9bc-47b1-f664-f71d1e51030f",
        "colab": {
          "base_uri": "https://localhost:8080/",
          "height": 67
        }
      },
      "source": [
        "allnames=\"Dorothy Katherine Mary\"\n",
        "nameslower=\"dorothy katherine mary\"\n",
        "namesnospace=\"dorothykatherinemary\"\n",
        "\n",
        "#names=namesnospace\n",
        "\n",
        "names= input(\"enter something: \")\n",
        "\n",
        "print (names)\n",
        "if (names.islower()) :         # only lower case\n",
        "  print (\"is lower case\")     \n",
        "if (names.isupper()) :         # only upper case\n",
        "  print (\"is upper case\")\n",
        "if (names.islower() or names.isupper()) :\n",
        "  print (\"is upper or lower case\")\n",
        "  \n",
        "if (names.isnumeric()) :\n",
        "  print (\"is numeric\")\n",
        "if (names.isalpha()) :\n",
        "  print (\"is alpha\")\n",
        "\n",
        "if (names.isspace()) :\n",
        "  print (\"is space\")\n"
      ],
      "execution_count": null,
      "outputs": [
        {
          "output_type": "stream",
          "text": [
            "enter something:     \n",
            "    \n",
            "is space\n"
          ],
          "name": "stdout"
        }
      ]
    },
    {
      "cell_type": "markdown",
      "metadata": {
        "id": "MNHHf82zEa28"
      },
      "source": [
        "## string in string"
      ]
    },
    {
      "cell_type": "code",
      "metadata": {
        "id": "kzf5dAj1Ed5D",
        "outputId": "79d32da2-71cb-4099-e5b9-f22f63e0ba07",
        "colab": {
          "base_uri": "https://localhost:8080/",
          "height": 51
        }
      },
      "source": [
        "name=\"beatrice worsley\"\n",
        "\n",
        "\n",
        "if ( \"be\" in name ) :\n",
        "  print(\"there is a be in\",name)\n",
        "  \n",
        "if ( \"W\" in name.upper() ) :\n",
        "  print(\"there is a W in\",name.upper())\n",
        "\n",
        "if ( \"W\" in name ) :\n",
        "  print(\"there is a W in\",name)\n",
        "else :\n",
        "  print(\"there is not a W in\",name)"
      ],
      "execution_count": null,
      "outputs": [
        {
          "output_type": "stream",
          "text": [
            "there is a be in beatrice worsley\n",
            "there is a W in BEATRICE WORSLEY\n"
          ],
          "name": "stdout"
        }
      ]
    },
    {
      "cell_type": "markdown",
      "metadata": {
        "id": "A9zI_P_wzHM8"
      },
      "source": [
        "## join a string"
      ]
    },
    {
      "cell_type": "code",
      "metadata": {
        "id": "K-mLN20tzT38",
        "outputId": "38a6bc1f-bd72-4ce2-a0ea-4731bd77b581",
        "colab": {
          "base_uri": "https://localhost:8080/",
          "height": 139
        }
      },
      "source": [
        "balloon = \"Lied für dich Von neunundneunzig Luftballons\"\n",
        "joinblank = \" \".join(balloon)\n",
        "joinx = \" He \".join(balloon)    # He  is helium in the periodic table\n",
        "print(joinblank)\n",
        "print(joinx)\n",
        "print(\"you can reverse with str.join(): \", \"\".join(reversed(balloon)))\n",
        "print(\"you can join lists\")\n",
        "# [] denotes a list, we will see more lists soon\n",
        "too_many_legs = \",\".join([\"spiders\", \"squid\", \"octopus\", \"centipedes\"])\n",
        "print(\"was a list, now a string \", too_many_legs)\n",
        "balloon_split = balloon.split()\n",
        "print(balloon_split)"
      ],
      "execution_count": null,
      "outputs": [
        {
          "output_type": "stream",
          "text": [
            "L i e d   f ü r   d i c h   V o n   n e u n u n d n e u n z i g   L u f t b a l l o n s\n",
            "L He i He e He d He   He f He ü He r He   He d He i He c He h He   He V He o He n He   He n He e He u He n He u He n He d He n He e He u He n He z He i He g He   He L He u He f He t He b He a He l He l He o He n He s\n",
            "you can reverse with str.join():  snollabtfuL giznuendnunuen noV hcid rüf deiL\n",
            "you can join lists\n",
            "was a list, now a string  spiders,squid,octopus,centipedes\n",
            "['Lied', 'für', 'dich', 'Von', 'neunundneunzig', 'Luftballons']\n"
          ],
          "name": "stdout"
        }
      ]
    },
    {
      "cell_type": "markdown",
      "metadata": {
        "id": "yVCnabpYy4Dm"
      },
      "source": [
        "## split (delim, max) a string\n",
        "* default delimiter is space"
      ]
    },
    {
      "cell_type": "code",
      "metadata": {
        "id": "zjj6qEEmy4Dn",
        "outputId": "af37b9ce-1c50-4eb8-ca5a-24fe38deb7e8",
        "colab": {
          "base_uri": "https://localhost:8080/",
          "height": 305
        }
      },
      "source": [
        "# split into a list\n",
        "print( \"black:white:green:blue:red\".split(':') )\n",
        "\n",
        "# remove from a string \n",
        "phrase = \"mares eat oats\"\n",
        "print(\"before\", phrase, \"after\", phrase.split(\"a\") )\n",
        "\n",
        "phrase = \"the cat came back, the very next day.\"\n",
        "print (phrase.capitalize().split())\n",
        "print (phrase.title().split(\",\"))\n",
        "\n",
        "one, two, three = input(\"enter three things:\").split()\n",
        "print(\"one\",one,\"two\",two,\"three\",three)"
      ],
      "execution_count": null,
      "outputs": [
        {
          "output_type": "stream",
          "text": [
            "['black', 'white', 'green', 'blue', 'red']\n",
            "before mares eat oats after ['m', 'res e', 't o', 'ts']\n",
            "['The', 'cat', 'came', 'back,', 'the', 'very', 'next', 'day.']\n",
            "['The Cat Came Back', ' The Very Next Day.']\n",
            "enter three things:this, that , theother\n"
          ],
          "name": "stdout"
        },
        {
          "output_type": "error",
          "ename": "ValueError",
          "evalue": "ignored",
          "traceback": [
            "\u001b[0;31m---------------------------------------------------------------------------\u001b[0m",
            "\u001b[0;31mValueError\u001b[0m                                Traceback (most recent call last)",
            "\u001b[0;32m<ipython-input-9-2b5c2959cc31>\u001b[0m in \u001b[0;36m<module>\u001b[0;34m()\u001b[0m\n\u001b[1;32m      9\u001b[0m \u001b[0mprint\u001b[0m \u001b[0;34m(\u001b[0m\u001b[0mphrase\u001b[0m\u001b[0;34m.\u001b[0m\u001b[0mtitle\u001b[0m\u001b[0;34m(\u001b[0m\u001b[0;34m)\u001b[0m\u001b[0;34m.\u001b[0m\u001b[0msplit\u001b[0m\u001b[0;34m(\u001b[0m\u001b[0;34m\",\"\u001b[0m\u001b[0;34m)\u001b[0m\u001b[0;34m)\u001b[0m\u001b[0;34m\u001b[0m\u001b[0;34m\u001b[0m\u001b[0m\n\u001b[1;32m     10\u001b[0m \u001b[0;34m\u001b[0m\u001b[0m\n\u001b[0;32m---> 11\u001b[0;31m \u001b[0mone\u001b[0m\u001b[0;34m,\u001b[0m \u001b[0mtwo\u001b[0m\u001b[0;34m,\u001b[0m \u001b[0mthree\u001b[0m \u001b[0;34m=\u001b[0m \u001b[0minput\u001b[0m\u001b[0;34m(\u001b[0m\u001b[0;34m\"enter three things:\"\u001b[0m\u001b[0;34m)\u001b[0m\u001b[0;34m.\u001b[0m\u001b[0msplit\u001b[0m\u001b[0;34m(\u001b[0m\u001b[0;34m)\u001b[0m\u001b[0;34m\u001b[0m\u001b[0;34m\u001b[0m\u001b[0m\n\u001b[0m\u001b[1;32m     12\u001b[0m \u001b[0mprint\u001b[0m\u001b[0;34m(\u001b[0m\u001b[0;34m\"one\"\u001b[0m\u001b[0;34m,\u001b[0m\u001b[0mone\u001b[0m\u001b[0;34m,\u001b[0m\u001b[0;34m\"two\"\u001b[0m\u001b[0;34m,\u001b[0m\u001b[0mtwo\u001b[0m\u001b[0;34m,\u001b[0m\u001b[0;34m\"three\"\u001b[0m\u001b[0;34m,\u001b[0m\u001b[0mthree\u001b[0m\u001b[0;34m)\u001b[0m\u001b[0;34m\u001b[0m\u001b[0;34m\u001b[0m\u001b[0m\n",
            "\u001b[0;31mValueError\u001b[0m: too many values to unpack (expected 3)"
          ]
        }
      ]
    },
    {
      "cell_type": "markdown",
      "metadata": {
        "id": "EjfwNE1OJvFM"
      },
      "source": [
        "## replace a string"
      ]
    },
    {
      "cell_type": "code",
      "metadata": {
        "id": "OcZBo-ed6QC6",
        "outputId": "9230098c-71e6-4804-eb85-e3d9074960af",
        "colab": {
          "base_uri": "https://localhost:8080/",
          "height": 52
        }
      },
      "source": [
        "balloon = \"Lied für dich Von neunundneunzig Luftballons\"\n",
        "print (balloon.replace(\"n\", \"$\"))\n",
        "print (balloon .replace(\"neunundneunzig\", \"einhundertein\"))"
      ],
      "execution_count": null,
      "outputs": [
        {
          "output_type": "stream",
          "text": [
            "Lied für dich Vo$ $eu$u$d$eu$zig Luftballo$s\n",
            "Lied für dich Von einhundertein Luftballons\n"
          ],
          "name": "stdout"
        }
      ]
    },
    {
      "cell_type": "markdown",
      "metadata": {
        "id": "BewMXFwqGUup"
      },
      "source": [
        "Poetry\n",
        "\n",
        "Alligator Pie By Dennis Lee\n",
        "ref https://canpoetry.library.utoronto.ca/lee/poem7.htm \n"
      ]
    },
    {
      "cell_type": "code",
      "metadata": {
        "id": "7w-U27xQJ0re"
      },
      "source": [
        "author=\"Denis Lee\"\n",
        "reference=\"https://canpoetry.library.utoronto.ca/lee/poem7.htm\"\n",
        "poem_title=\"Alligator Pie\"\n",
        "\n",
        "poem=\"\"\"\n",
        "Alligator pie, alligator pie,\n",
        "If I don't get some I think I'm gonna die. \n",
        "Give away the green grass, give away the sky, \n",
        "But don't give away my alligator pie.\n",
        "\n",
        "Alligator stew, alligator stew,\n",
        "If I don't get some I don't know what I'll do.\n",
        "Give away my furry hat, give away my shoe,\n",
        "But don't give away my alligator stew.\n",
        "\n",
        "Alligator soup, alligator soup,\n",
        "If I don't get some I think I'm gonna droop.\n",
        "Give away my hockey stick, give away my hoop,\n",
        "But don't give away my alligator soup.\n",
        "\"\"\"\n",
        "\n",
        "print (poem.replace(\"pie\",\"cake\"))"
      ],
      "execution_count": null,
      "outputs": []
    },
    {
      "cell_type": "markdown",
      "metadata": {
        "id": "DfaBU6ACqxKP"
      },
      "source": [
        "## string in string and count() "
      ]
    },
    {
      "cell_type": "code",
      "metadata": {
        "id": "CdvSTYCpF7JN",
        "outputId": "92e34d5f-f04d-4de7-e1f5-c7fca0a51259",
        "colab": {
          "base_uri": "https://localhost:8080/",
          "height": 85
        }
      },
      "source": [
        "author=\"Denis Lee\"\n",
        "reference=\"https://canpoetry.library.utoronto.ca/lee/poem7.htm\"\n",
        "poem_title=\"Alligator Pie\"\n",
        "poem=\"\"\"\n",
        "Alligator pie, alligator pie,\n",
        "If I don't get some I think I'm gonna die. \n",
        "Give away the green grass, give away the sky, \n",
        "But don't give away my alligator pie.\n",
        "\n",
        "Alligator stew, alligator stew,\n",
        "If I don't get some I don't know what I'll do.\n",
        "Give away my furry hat, give away my shoe,\n",
        "But don't give away my alligator stew.\n",
        "\n",
        "Alligator soup, alligator soup,\n",
        "If I don't get some I think I'm gonna droop.\n",
        "Give away my hockey stick, give away my hoop,\n",
        "But\tdon't give away my alligator soup.\n",
        "\"\"\"\n",
        "\n",
        "\n",
        "\n",
        "search=input(\"What do you want to find in \"+poem_title+\": \")\n",
        "\n",
        "if (search in poem ) :\n",
        "  print(search, \"is in\",poem_title )\n",
        "else :\n",
        "  print(\"couldn't find\", search, \"in\",poem_title)\n",
        "\n",
        "# number of times the search term occurs in the string\n",
        "print (\"occurrences\", poem.count(search))\n",
        "\n",
        "# number of times the search term occurs in the string\n",
        "print (\"all lowercase \", poem.lower().count(search.lower()))"
      ],
      "execution_count": null,
      "outputs": [
        {
          "output_type": "stream",
          "text": [
            "What do you want to find in Alligator Pie: pie\n",
            "pie is in Alligator Pie\n",
            "occurrences 3\n",
            "all lowercase  3\n"
          ],
          "name": "stdout"
        }
      ]
    },
    {
      "cell_type": "code",
      "metadata": {
        "id": "yn4Jdki9Y7v7"
      },
      "source": [
        "from IPython.display import display, Javascript\n",
        "from google.colab.output import eval_js\n",
        "from base64 import b64decode\n",
        "\n",
        "def take_photo(filename='photo.jpg', quality=0.8):\n",
        "  js = Javascript('''\n",
        "    async function takePhoto(quality) {\n",
        "      const div = document.createElement('div');\n",
        "      const capture = document.createElement('button');\n",
        "      capture.textContent = 'Capture';\n",
        "      div.appendChild(capture);\n",
        "\n",
        "      const video = document.createElement('video');\n",
        "      video.style.display = 'block';\n",
        "      const stream = await navigator.mediaDevices.getUserMedia({video: true});\n",
        "\n",
        "      document.body.appendChild(div);\n",
        "      div.appendChild(video);\n",
        "      video.srcObject = stream;\n",
        "      await video.play();\n",
        "\n",
        "      // Resize the output to fit the video element.\n",
        "      google.colab.output.setIframeHeight(document.documentElement.scrollHeight, true);\n",
        "\n",
        "      // Wait for Capture to be clicked.\n",
        "      await new Promise((resolve) => capture.onclick = resolve);\n",
        "\n",
        "      const canvas = document.createElement('canvas');\n",
        "      canvas.width = video.videoWidth;\n",
        "      canvas.height = video.videoHeight;\n",
        "      canvas.getContext('2d').drawImage(video, 0, 0);\n",
        "      stream.getVideoTracks()[0].stop();\n",
        "      div.remove();\n",
        "      return canvas.toDataURL('image/jpeg', quality);\n",
        "    }\n",
        "    ''')\n",
        "  display(js)\n",
        "  data = eval_js('takePhoto({})'.format(quality))\n",
        "  binary = b64decode(data.split(',')[1])\n",
        "  with open(filename, 'wb') as f:\n",
        "    f.write(binary)\n",
        "  return filename"
      ],
      "execution_count": null,
      "outputs": []
    },
    {
      "cell_type": "code",
      "metadata": {
        "id": "FwCLRca7Y7t3"
      },
      "source": [
        "from IPython.display import Image\n",
        "try:\n",
        "  filename = take_photo()\n",
        "  print('Saved to {}'.format(filename))\n",
        "  \n",
        "  # Show the image which was just taken.\n",
        "  display(Image(filename))\n",
        "except Exception as err:\n",
        "  # Errors will be thrown if the user does not have a webcam or if they do not\n",
        "  # grant the page permission to access it.\n",
        "  print(str(err))"
      ],
      "execution_count": null,
      "outputs": []
    },
    {
      "cell_type": "markdown",
      "metadata": {
        "id": "ftxgJIAQyOTR"
      },
      "source": [
        "## string in string and endswith, startswith"
      ]
    },
    {
      "cell_type": "code",
      "metadata": {
        "id": "tymaU2fhza82",
        "outputId": "e10ad332-9524-47fc-8e6e-d9ed9352dfed",
        "colab": {
          "base_uri": "https://localhost:8080/",
          "height": 87
        }
      },
      "source": [
        "# string endswith\n",
        "str=\"This ends with what\"\n",
        "\n",
        "if(\"what\" in str):\n",
        "  print(\"what is in -\", str)\n",
        "  \n",
        "if (\"with\" in str.lower()):\n",
        "  print(\"with is in -\", str)\n",
        "  \n",
        "if(str.endswith(\"what\")):\n",
        "  print(\"ends with what -\")\n",
        "\n",
        "if(str.lower().endswith(\"this\")):\n",
        "  print(\"ends with this -\", str)\n",
        "\n",
        "elif(str.startswith(\"this\".capitalize())):\n",
        "  print(\"starts with this -\", str)"
      ],
      "execution_count": null,
      "outputs": [
        {
          "output_type": "stream",
          "text": [
            "what is in - This ends with what\n",
            "this is in - This ends with what\n",
            "ends with what -\n",
            "starts with this - This ends with what\n"
          ],
          "name": "stdout"
        }
      ]
    },
    {
      "cell_type": "markdown",
      "metadata": {
        "id": "DgA9N1eHVppE"
      },
      "source": [
        "# References \n",
        "\n",
        "* http://greenteapress.com/thinkpython2/html/thinkpython2009.html \n",
        "* http://interactivepython.org/runestone/static/CS152f17/Strings/StringMethods.html \n",
        "* https://developers.google.com/edu/python/strings \n",
        "* https://docs.python.org/3/library/stdtypes.html#str \n",
        "* https://realpython.com/python-strings/\n",
        "\n",
        "Digitalocean\n",
        "\n",
        "* https://www.digitalocean.com/community/tutorials/an-introduction-to-working-with-strings-in-python-3 \n",
        "* https://www.digitalocean.com/community/tutorials/an-introduction-to-string-functions-in-python-3 "
      ]
    }
  ]
}
